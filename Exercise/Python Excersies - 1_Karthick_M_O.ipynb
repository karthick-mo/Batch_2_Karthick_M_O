{
 "cells": [
  {
   "cell_type": "code",
   "execution_count": 1,
   "metadata": {},
   "outputs": [],
   "source": [
    "# write a program to add two  integers 10 , 20"
   ]
  },
  {
   "cell_type": "code",
   "execution_count": 1,
   "metadata": {},
   "outputs": [
    {
     "name": "stdout",
     "output_type": "stream",
     "text": [
      "30\n"
     ]
    }
   ],
   "source": [
    "# Decare the variable Name and assign the value to variable a , b\n",
    "a,b=10,20\n",
    "\n",
    "# Add the two int values and assign it to new Variable c\n",
    "c=a+b\n",
    "\n",
    "# print the output of varaible c and cross verify the results\n",
    "print(c)"
   ]
  },
  {
   "cell_type": "code",
   "execution_count": 2,
   "metadata": {},
   "outputs": [],
   "source": [
    "# Write a program to find the type of a, b ,c where a=2, b=2.8,c=\"John\""
   ]
  },
  {
   "cell_type": "code",
   "execution_count": 3,
   "metadata": {},
   "outputs": [
    {
     "name": "stdout",
     "output_type": "stream",
     "text": [
      "<class 'int'>\n",
      "<class 'float'>\n",
      "<class 'str'>\n"
     ]
    }
   ],
   "source": [
    "# Declare the variable and assign the value's to the respective variable's\n",
    "a=2\n",
    "b=2.8\n",
    "c=\"John\"\n",
    "\n",
    "# Call inbuilt python function \"type\" to know the type of data saved in the respective variable\n",
    "print(type(a))\n",
    "print(type(b))\n",
    "print(type(c))"
   ]
  },
  {
   "cell_type": "code",
   "execution_count": 3,
   "metadata": {},
   "outputs": [],
   "source": [
    "# Write a program to swap the two numbers , where a=2 ,b=4 the program should print a= 4 ,b=2"
   ]
  },
  {
   "cell_type": "code",
   "execution_count": 10,
   "metadata": {},
   "outputs": [
    {
     "name": "stdout",
     "output_type": "stream",
     "text": [
      "4\n",
      "2\n"
     ]
    }
   ],
   "source": [
    "# Declare the variable and assign the value's to the respective variable's\n",
    "a=2\n",
    "b=4\n",
    "\n",
    "#swap the variable from varaible a to variable b\n",
    "a,b=b,a\n",
    "\n",
    "#print the value of the variable a and b.\n",
    "print(a)\n",
    "print(b)"
   ]
  },
  {
   "cell_type": "code",
   "execution_count": 4,
   "metadata": {},
   "outputs": [],
   "source": [
    "# Write a program to swap the two numbers , using 3 variables"
   ]
  },
  {
   "cell_type": "code",
   "execution_count": 16,
   "metadata": {},
   "outputs": [
    {
     "name": "stdout",
     "output_type": "stream",
     "text": [
      "5\n",
      "4\n"
     ]
    }
   ],
   "source": [
    "# Declare the variable and assign the value's to the respective variable's\n",
    "a=3\n",
    "b=5\n",
    "c=4\n",
    "\n",
    "#swap the two variable value\n",
    "a,b=b,c\n",
    "b,c=c,a\n",
    "\n",
    "# print the value of the two variable\n",
    "print(a)\n",
    "print(b)"
   ]
  },
  {
   "cell_type": "code",
   "execution_count": 5,
   "metadata": {},
   "outputs": [],
   "source": [
    "# Write a program to print the numerator and denominator , quotient and remainder"
   ]
  },
  {
   "cell_type": "code",
   "execution_count": null,
   "metadata": {},
   "outputs": [],
   "source": [
    "# Declare the variable and assign the value's to the respective variable's\n",
    "a=4\n",
    "b=3\n",
    "\n",
    "# fraction\n",
    "c=a/b\n",
    "d=a%b\n",
    "\n",
    "# Print the Numerator\n",
    "print(a)\n",
    "\n",
    "# Print the Denominator\n",
    "print(b)\n",
    "\n",
    "# Print the quatient\n",
    "print(c)\n",
    "\n",
    "# Print the remainder]\n",
    "print(d)\n"
   ]
  },
  {
   "cell_type": "code",
   "execution_count": 6,
   "metadata": {},
   "outputs": [],
   "source": [
    "# Write a program to calculate simple interst , si =p*n*r/100"
   ]
  },
  {
   "cell_type": "code",
   "execution_count": null,
   "metadata": {},
   "outputs": [],
   "source": [
    "P=float(input(\"Enter the principal:\"))\n",
    "N=float(input(\"Number of years:\"))\n",
    "R=float(input(\"Rate of interest:\"))\n",
    "si=int(P*N*R/100)\n",
    "print (\"Simple interest is\", si)"
   ]
  },
  {
   "cell_type": "code",
   "execution_count": 7,
   "metadata": {},
   "outputs": [],
   "source": [
    "# Write a program to calculate the area and circumference of a circle ,area=3.14*radius*radius , circumference=2*3.14*r"
   ]
  },
  {
   "cell_type": "code",
   "execution_count": null,
   "metadata": {},
   "outputs": [],
   "source": [
    "Radius=float(input(\"Enter the radius in cm:\"))\n",
    "area=3.14*Radius*Radius\n",
    "Circumference=2*3.14*Radius\n",
    "#print f({:.2f},'area')\n",
    "print(\"Area of the circle: {:.2f} cm²\".format(area))\n",
    "print(\"Circumference of circle is:\",Circumference)"
   ]
  },
  {
   "cell_type": "code",
   "execution_count": 8,
   "metadata": {},
   "outputs": [],
   "source": [
    "# Write a program to convert Celcius to Fariehiet , fariienhiet=1.8*celcius+32"
   ]
  },
  {
   "cell_type": "code",
   "execution_count": null,
   "metadata": {},
   "outputs": [],
   "source": [
    "celcius=float(input(\"Enter the temp in cel:\"))\n",
    "f=1.8*celcius+32\n",
    "print(\"Temp in fariienhiet is:\",f)"
   ]
  },
  {
   "cell_type": "code",
   "execution_count": 9,
   "metadata": {},
   "outputs": [],
   "source": [
    "# Write a program to find whether given number is odd or even"
   ]
  },
  {
   "cell_type": "code",
   "execution_count": null,
   "metadata": {},
   "outputs": [],
   "source": [
    "number=int(input(\"Enter the number:\"))\n",
    "if number%2==0:\n",
    "    print(\"The given number is even\")\n",
    "else:\n",
    "    print(\"The given number is odd\")"
   ]
  },
  {
   "cell_type": "code",
   "execution_count": 10,
   "metadata": {},
   "outputs": [],
   "source": [
    "# Write a program to check whether the person can vote or not"
   ]
  },
  {
   "cell_type": "code",
   "execution_count": null,
   "metadata": {},
   "outputs": [],
   "source": [
    "Age=int(input(\"Enter the age:\"))\n",
    "if Age>=18:\n",
    "    print(\"Person can vote\")\n",
    "else:\n",
    "    print(\"Person can't vote\")"
   ]
  },
  {
   "cell_type": "code",
   "execution_count": 11,
   "metadata": {},
   "outputs": [],
   "source": [
    "# Write a program to find whether the given number is odd or even"
   ]
  },
  {
   "cell_type": "code",
   "execution_count": null,
   "metadata": {},
   "outputs": [],
   "source": [
    "number=int(input(\"Enter the number:\"))\n",
    "if number%2==0:\n",
    "    print(\"The given number is even\")\n",
    "else:\n",
    "    print(\"The given number is odd\")\n"
   ]
  },
  {
   "cell_type": "code",
   "execution_count": 12,
   "metadata": {},
   "outputs": [],
   "source": [
    "# Write a program to find whether the given year is leap year or not ?"
   ]
  },
  {
   "cell_type": "code",
   "execution_count": null,
   "metadata": {},
   "outputs": [],
   "source": [
    "year=int(input(\"Enter a year: \"))\n",
    "if (year%4==0):\n",
    "    if (year%100==0):\n",
    "        if (year%400==0):\n",
    "            print(f\"{year} 1 is a leap year.\")\n",
    "        else:\n",
    "            print(f\"{year} 2 is not a leap year.\")\n",
    "    else:\n",
    "        print(f\"{year} 3 is a leap year.\")\n",
    "else:\n",
    "    print(f\"{year} 4 is not a leap year.\")"
   ]
  },
  {
   "cell_type": "code",
   "execution_count": null,
   "metadata": {},
   "outputs": [],
   "source": [
    "# Write a program to find the bigeest of three numbers"
   ]
  },
  {
   "cell_type": "code",
   "execution_count": null,
   "metadata": {},
   "outputs": [],
   "source": [
    "a=int(input(\"Enter a value:\"))\n",
    "b=int(input(\"Enter b value:\"))\n",
    "c=int(input(\"Enter c value:\"))\n",
    "if a>b:\n",
    "    if a>c:\n",
    "        print(\"a is bigger\")\n",
    "    else:\n",
    "        print(\"c is bigger\")\n",
    "elif b>c:\n",
    "    print(\"b is bigger\")\n",
    "else:\n",
    "    print(\"c is bigger\")\n",
    "\n",
    "    "
   ]
  }
 ],
 "metadata": {
  "kernelspec": {
   "display_name": "Python 3 (ipykernel)",
   "language": "python",
   "name": "python3"
  },
  "language_info": {
   "codemirror_mode": {
    "name": "ipython",
    "version": 3
   },
   "file_extension": ".py",
   "mimetype": "text/x-python",
   "name": "python",
   "nbconvert_exporter": "python",
   "pygments_lexer": "ipython3",
   "version": "3.13.5"
  }
 },
 "nbformat": 4,
 "nbformat_minor": 4
}
